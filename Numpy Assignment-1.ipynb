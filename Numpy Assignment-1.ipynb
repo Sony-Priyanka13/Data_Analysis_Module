{
 "cells": [
  {
   "cell_type": "code",
   "execution_count": 1,
   "id": "9f91c8c9",
   "metadata": {},
   "outputs": [],
   "source": [
    "# 1Q:Write a program to create a 5 dimensional array with all zeros and ones"
   ]
  },
  {
   "cell_type": "code",
   "execution_count": 54,
   "id": "07dfb85f",
   "metadata": {},
   "outputs": [
    {
     "data": {
      "text/plain": [
       "array([[[[[1, 1, 1, 1, 1],\n",
       "          [1, 1, 1, 1, 1],\n",
       "          [1, 1, 1, 1, 1],\n",
       "          [1, 1, 1, 1, 1],\n",
       "          [1, 1, 1, 1, 1]]]]])"
      ]
     },
     "execution_count": 54,
     "metadata": {},
     "output_type": "execute_result"
    }
   ],
   "source": [
    "#program\n",
    "import numpy as np\n",
    "np.ones((1,1,1,5,5),dtype=int)"
   ]
  },
  {
   "cell_type": "code",
   "execution_count": 55,
   "id": "105f3127",
   "metadata": {},
   "outputs": [
    {
     "data": {
      "text/plain": [
       "array([[[[[0, 0, 0, 0, 0],\n",
       "          [0, 0, 0, 0, 0],\n",
       "          [0, 0, 0, 0, 0],\n",
       "          [0, 0, 0, 0, 0],\n",
       "          [0, 0, 0, 0, 0]]]]])"
      ]
     },
     "execution_count": 55,
     "metadata": {},
     "output_type": "execute_result"
    }
   ],
   "source": [
    "#program\n",
    "np.zeros((1,1,1,5,5),dtype=int)"
   ]
  },
  {
   "cell_type": "code",
   "execution_count": 4,
   "id": "58648602",
   "metadata": {},
   "outputs": [],
   "source": [
    "# 2Q:Write a program to create an array of 10 zeros,10 ones, and 10 fives in row 1 2 and 3 which\n",
    "# create a new array of shape (3,10)"
   ]
  },
  {
   "cell_type": "code",
   "execution_count": 8,
   "id": "28ec6372",
   "metadata": {},
   "outputs": [
    {
     "data": {
      "text/plain": [
       "array([[0, 0, 0, 0, 0, 0, 0, 0, 0, 0],\n",
       "       [1, 1, 1, 1, 1, 1, 1, 1, 1, 1],\n",
       "       [5, 5, 5, 5, 5, 5, 5, 5, 5, 5]])"
      ]
     },
     "execution_count": 8,
     "metadata": {},
     "output_type": "execute_result"
    }
   ],
   "source": [
    "x=np.array([\n",
    "    np.zeros((10,)),\n",
    "    np.ones((10,)),\n",
    "    np.full((10,),5)\n",
    "],dtype=int)\n",
    "x"
   ]
  },
  {
   "cell_type": "code",
   "execution_count": 9,
   "id": "ac6454d1",
   "metadata": {},
   "outputs": [],
   "source": [
    "# 3Q:Write a program to create a 3x4 matrix filled with values from 10 to 21."
   ]
  },
  {
   "cell_type": "code",
   "execution_count": 10,
   "id": "7fdfdb48",
   "metadata": {},
   "outputs": [
    {
     "data": {
      "text/plain": [
       "array([[10, 11, 12, 13],\n",
       "       [14, 15, 16, 17],\n",
       "       [18, 19, 20, 21]])"
      ]
     },
     "execution_count": 10,
     "metadata": {},
     "output_type": "execute_result"
    }
   ],
   "source": [
    "# program\n",
    "arr = np.arange(10,22).reshape(3,4)\n",
    "arr"
   ]
  },
  {
   "cell_type": "code",
   "execution_count": 11,
   "id": "78d7d0fe",
   "metadata": {},
   "outputs": [],
   "source": [
    "# 4Q: Write a  program to create a 10x10 zero matrix with elements on the main diagonal equal to 0,1,2,3,4,5,6,7,8,9,"
   ]
  },
  {
   "cell_type": "code",
   "execution_count": 12,
   "id": "fdd25eb1",
   "metadata": {},
   "outputs": [
    {
     "data": {
      "text/plain": [
       "array([[0, 0, 0, 0, 0, 0, 0, 0, 0, 0],\n",
       "       [0, 1, 0, 0, 0, 0, 0, 0, 0, 0],\n",
       "       [0, 0, 2, 0, 0, 0, 0, 0, 0, 0],\n",
       "       [0, 0, 0, 3, 0, 0, 0, 0, 0, 0],\n",
       "       [0, 0, 0, 0, 4, 0, 0, 0, 0, 0],\n",
       "       [0, 0, 0, 0, 0, 5, 0, 0, 0, 0],\n",
       "       [0, 0, 0, 0, 0, 0, 6, 0, 0, 0],\n",
       "       [0, 0, 0, 0, 0, 0, 0, 7, 0, 0],\n",
       "       [0, 0, 0, 0, 0, 0, 0, 0, 8, 0],\n",
       "       [0, 0, 0, 0, 0, 0, 0, 0, 0, 9]])"
      ]
     },
     "execution_count": 12,
     "metadata": {},
     "output_type": "execute_result"
    }
   ],
   "source": [
    "# program\n",
    "np.diag([0,1,2,3,4,5,6,7,8,9])"
   ]
  },
  {
   "cell_type": "code",
   "execution_count": 13,
   "id": "56999c28",
   "metadata": {},
   "outputs": [],
   "source": [
    "# 5Q:Write a program to create a 4x4 array. Create an array from below array by swapping first and last, second and third columns"
   ]
  },
  {
   "cell_type": "code",
   "execution_count": 52,
   "id": "b0193811",
   "metadata": {},
   "outputs": [
    {
     "data": {
      "text/plain": [
       "array([[ 1,  2,  3,  4],\n",
       "       [ 5,  6,  7,  8],\n",
       "       [ 9, 10, 11, 12],\n",
       "       [13, 14, 15, 16]])"
      ]
     },
     "execution_count": 52,
     "metadata": {},
     "output_type": "execute_result"
    }
   ],
   "source": [
    "# program\n",
    "# given array\n",
    "arr = np.array([\n",
    "    [1,2,3,4],\n",
    "    [5,6,7,8],\n",
    "    [9,10,11,12],\n",
    "    [13,14,15,16]\n",
    "])\n",
    "arr"
   ]
  },
  {
   "cell_type": "code",
   "execution_count": 53,
   "id": "ac84191c",
   "metadata": {},
   "outputs": [
    {
     "data": {
      "text/plain": [
       "array([[ 4,  3,  2,  1],\n",
       "       [ 8,  7,  6,  5],\n",
       "       [12, 11, 10,  9],\n",
       "       [16, 15, 14, 13]])"
      ]
     },
     "execution_count": 53,
     "metadata": {},
     "output_type": "execute_result"
    }
   ],
   "source": [
    "# program\n",
    "# manipulated array\n",
    "arr[::,::-1]\n"
   ]
  },
  {
   "cell_type": "code",
   "execution_count": 56,
   "id": "d9b6a2fc",
   "metadata": {},
   "outputs": [],
   "source": [
    "# 6Q: Write a program to reverse an array (the first element becomes the last).\n",
    "#Given array:\n",
    "#[12 13 14 15 16 17 18 19 20 21 22 23 24 25 26 27 ]\n"
   ]
  },
  {
   "cell_type": "code",
   "execution_count": 57,
   "id": "cf06312b",
   "metadata": {},
   "outputs": [
    {
     "data": {
      "text/plain": [
       "array([27, 26, 25, 24, 23, 22, 21, 20, 19, 18, 17, 16, 15, 14, 13, 12])"
      ]
     },
     "execution_count": 57,
     "metadata": {},
     "output_type": "execute_result"
    }
   ],
   "source": [
    "# program\n",
    "arr = np.arange(12,28)\n",
    "arr[::-1]"
   ]
  },
  {
   "cell_type": "code",
   "execution_count": 58,
   "id": "ebb0412a",
   "metadata": {},
   "outputs": [],
   "source": [
    "# 7Q:Write a program to access all the elements greater than 30 and less than 80 and\n",
    "# multiples of 5 from an array of shape 10,10 .Elements range from 1 to 100"
   ]
  },
  {
   "cell_type": "code",
   "execution_count": 64,
   "id": "7ca45de4",
   "metadata": {},
   "outputs": [
    {
     "data": {
      "text/plain": [
       "array([35, 40, 45, 50, 55, 60, 65, 70, 75])"
      ]
     },
     "execution_count": 64,
     "metadata": {},
     "output_type": "execute_result"
    }
   ],
   "source": [
    "# program\n",
    "a = np.arange(1,101).reshape(10,10)\n",
    "a[((a>30)&(a<80)) & (a%5==0)]\n"
   ]
  },
  {
   "cell_type": "code",
   "execution_count": 65,
   "id": "ff8c3b06",
   "metadata": {},
   "outputs": [],
   "source": [
    "# 8Q:Write a program to create a 2D array with 1 on the border and 0 inside."
   ]
  },
  {
   "cell_type": "code",
   "execution_count": 73,
   "id": "a1a1db64",
   "metadata": {},
   "outputs": [
    {
     "data": {
      "text/plain": [
       "array([[1, 1, 1, 1, 1],\n",
       "       [1, 0, 0, 0, 1],\n",
       "       [1, 0, 0, 0, 1],\n",
       "       [1, 0, 0, 0, 1],\n",
       "       [1, 1, 1, 1, 1]])"
      ]
     },
     "execution_count": 73,
     "metadata": {},
     "output_type": "execute_result"
    }
   ],
   "source": [
    "# program\n",
    "a = np.zeros((5,5),dtype=int)\n",
    "a[0]=1\n",
    "a[4]=1\n",
    "a[:,0]=1\n",
    "a[:,4]=1\n",
    "a\n"
   ]
  },
  {
   "cell_type": "code",
   "execution_count": 80,
   "id": "c00b3dec",
   "metadata": {},
   "outputs": [],
   "source": [
    "# 9Q:Write a program to create a checkerboard pattern"
   ]
  },
  {
   "cell_type": "code",
   "execution_count": 5,
   "id": "60761451",
   "metadata": {},
   "outputs": [
    {
     "data": {
      "text/plain": [
       "array([[0, 1, 0, 1, 0, 1, 0, 1],\n",
       "       [1, 0, 1, 0, 1, 0, 1, 0],\n",
       "       [0, 1, 0, 1, 0, 1, 0, 1],\n",
       "       [1, 0, 1, 0, 1, 0, 1, 0],\n",
       "       [0, 1, 0, 1, 0, 1, 0, 1],\n",
       "       [1, 0, 1, 0, 1, 0, 1, 0],\n",
       "       [0, 1, 0, 1, 0, 1, 0, 1],\n",
       "       [1, 0, 1, 0, 1, 0, 1, 0]])"
      ]
     },
     "execution_count": 5,
     "metadata": {},
     "output_type": "execute_result"
    }
   ],
   "source": [
    "# program\n",
    "import numpy as np\n",
    "a = np.eye(2,dtype=int)\n",
    "a1 = a[:,::-1]\n",
    "np.tile(a1,(4,4))"
   ]
  },
  {
   "cell_type": "code",
   "execution_count": 74,
   "id": "4997ce6e",
   "metadata": {},
   "outputs": [],
   "source": [
    "# 10Q:10) Write a program to find common values between two arrays.\n",
    "#Expected Output:\n",
    "#array1: [10 20 40 60]\n",
    "#array2: [10, 30, 40,50]"
   ]
  },
  {
   "cell_type": "code",
   "execution_count": 76,
   "id": "1337dc1d",
   "metadata": {},
   "outputs": [
    {
     "data": {
      "text/plain": [
       "{10, 40}"
      ]
     },
     "execution_count": 76,
     "metadata": {},
     "output_type": "execute_result"
    }
   ],
   "source": [
    "# program\n",
    "a1 = np.array([10,20,40,60])\n",
    "a2 = np.array([10,30,40,50])\n",
    "set(a1) & set(a2)"
   ]
  },
  {
   "cell_type": "code",
   "execution_count": 77,
   "id": "36f332a5",
   "metadata": {},
   "outputs": [],
   "source": [
    "# 11Q:Write a program to create an array 2d array and then reshape into 1d array"
   ]
  },
  {
   "cell_type": "code",
   "execution_count": 78,
   "id": "775e9963",
   "metadata": {},
   "outputs": [
    {
     "data": {
      "text/plain": [
       "1"
      ]
     },
     "execution_count": 78,
     "metadata": {},
     "output_type": "execute_result"
    }
   ],
   "source": [
    "# program\n",
    "a=np.arange(1,17).reshape(4,4)\n",
    "b=a.flatten()\n",
    "b\n",
    "b.ndim"
   ]
  },
  {
   "cell_type": "code",
   "execution_count": 79,
   "id": "501c50b9",
   "metadata": {},
   "outputs": [],
   "source": [
    "# 12Q:Write a user defined function for creating a 1 or 2d array from scratch without using array functions"
   ]
  },
  {
   "cell_type": "code",
   "execution_count": 9,
   "id": "d0494263",
   "metadata": {},
   "outputs": [],
   "source": [
    "# program\n",
    "y=[1,2,3,4]\n",
    "def func_array(x):\n",
    "    if x==1:\n",
    "        return  [ i for i in y]\n",
    "    if x==2:\n",
    "        rows = int(input(\"enter rows: \"))\n",
    "        cols = int(input(\"enter cols: \"))\n",
    "        return  [[0]*cols]*rows\n"
   ]
  },
  {
   "cell_type": "code",
   "execution_count": 10,
   "id": "51dee457",
   "metadata": {},
   "outputs": [
    {
     "data": {
      "text/plain": [
       "[1, 2, 3, 4]"
      ]
     },
     "execution_count": 10,
     "metadata": {},
     "output_type": "execute_result"
    }
   ],
   "source": [
    "func_array(1)"
   ]
  },
  {
   "cell_type": "code",
   "execution_count": 11,
   "id": "7459488e",
   "metadata": {},
   "outputs": [
    {
     "name": "stdout",
     "output_type": "stream",
     "text": [
      "enter rows: 2\n",
      "enter cols: 3\n"
     ]
    },
    {
     "data": {
      "text/plain": [
       "[[0, 0, 0], [0, 0, 0]]"
      ]
     },
     "execution_count": 11,
     "metadata": {},
     "output_type": "execute_result"
    }
   ],
   "source": [
    "func_array(2)"
   ]
  }
 ],
 "metadata": {
  "kernelspec": {
   "display_name": "Python 3 (ipykernel)",
   "language": "python",
   "name": "python3"
  },
  "language_info": {
   "codemirror_mode": {
    "name": "ipython",
    "version": 3
   },
   "file_extension": ".py",
   "mimetype": "text/x-python",
   "name": "python",
   "nbconvert_exporter": "python",
   "pygments_lexer": "ipython3",
   "version": "3.11.3"
  }
 },
 "nbformat": 4,
 "nbformat_minor": 5
}
