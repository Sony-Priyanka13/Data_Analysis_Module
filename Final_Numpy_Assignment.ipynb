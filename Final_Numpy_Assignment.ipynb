{
 "cells": [
  {
   "cell_type": "code",
   "execution_count": 1,
   "id": "359652f3",
   "metadata": {},
   "outputs": [],
   "source": [
    "import numpy as np"
   ]
  },
  {
   "cell_type": "code",
   "execution_count": 6,
   "id": "d7af8327",
   "metadata": {},
   "outputs": [],
   "source": [
    "a=np.loadtxt('tipsf.csv',delimiter=',',skiprows=1)"
   ]
  },
  {
   "cell_type": "code",
   "execution_count": 7,
   "id": "3c749d8a",
   "metadata": {},
   "outputs": [
    {
     "data": {
      "text/plain": [
       "array([[  0.  ,  16.99,   1.01, ...,   1.  ,   0.  ,   2.  ],\n",
       "       [  1.  ,  10.34,   1.66, ...,   1.  ,   0.  ,   3.  ],\n",
       "       [  2.  ,  21.01,   3.5 , ...,   1.  ,   0.  ,   3.  ],\n",
       "       ...,\n",
       "       [241.  ,  22.67,   2.  , ...,   0.  ,   0.  ,   2.  ],\n",
       "       [242.  ,  17.82,   1.75, ...,   0.  ,   0.  ,   2.  ],\n",
       "       [243.  ,  18.78,   3.  , ...,   2.  ,   0.  ,   2.  ]])"
      ]
     },
     "execution_count": 7,
     "metadata": {},
     "output_type": "execute_result"
    }
   ],
   "source": [
    "a"
   ]
  },
  {
   "cell_type": "code",
   "execution_count": 8,
   "id": "39a2b611",
   "metadata": {},
   "outputs": [],
   "source": [
    "# 1Q what is total bill value"
   ]
  },
  {
   "cell_type": "code",
   "execution_count": 9,
   "id": "37626c92",
   "metadata": {},
   "outputs": [
    {
     "data": {
      "text/plain": [
       "4827.77"
      ]
     },
     "execution_count": 9,
     "metadata": {},
     "output_type": "execute_result"
    }
   ],
   "source": [
    "# program\n",
    "np.sum(a[:,1])"
   ]
  },
  {
   "cell_type": "code",
   "execution_count": 10,
   "id": "c5556709",
   "metadata": {},
   "outputs": [],
   "source": [
    "# 2Q:what is total tip value"
   ]
  },
  {
   "cell_type": "code",
   "execution_count": 11,
   "id": "4e32dd0c",
   "metadata": {},
   "outputs": [
    {
     "data": {
      "text/plain": [
       "731.5799999999999"
      ]
     },
     "execution_count": 11,
     "metadata": {},
     "output_type": "execute_result"
    }
   ],
   "source": [
    "#program\n",
    "np.sum(a[:,2])"
   ]
  },
  {
   "cell_type": "code",
   "execution_count": 12,
   "id": "de741df7",
   "metadata": {},
   "outputs": [],
   "source": [
    "# 3Q:how many sat ,sun, thu,fri are there?"
   ]
  },
  {
   "cell_type": "code",
   "execution_count": 14,
   "id": "fc80eae4",
   "metadata": {},
   "outputs": [
    {
     "data": {
      "text/plain": [
       "(array([0., 1., 2., 3.]), array([87, 76, 62, 19], dtype=int64))"
      ]
     },
     "execution_count": 14,
     "metadata": {},
     "output_type": "execute_result"
    }
   ],
   "source": [
    "#program\n",
    "np.unique(a[:,5],return_counts=True)"
   ]
  },
  {
   "cell_type": "code",
   "execution_count": 15,
   "id": "3f60d69d",
   "metadata": {},
   "outputs": [],
   "source": [
    "# 4Q:how many smokers are there?"
   ]
  },
  {
   "cell_type": "code",
   "execution_count": 16,
   "id": "4fc7934b",
   "metadata": {},
   "outputs": [
    {
     "data": {
      "text/plain": [
       "93.0"
      ]
     },
     "execution_count": 16,
     "metadata": {},
     "output_type": "execute_result"
    }
   ],
   "source": [
    "# program\n",
    "np.sum(a[:,4])"
   ]
  },
  {
   "cell_type": "code",
   "execution_count": 17,
   "id": "5dcec50a",
   "metadata": {},
   "outputs": [],
   "source": [
    "# 5Q:what is the avg tip given by female and male?"
   ]
  },
  {
   "cell_type": "code",
   "execution_count": 18,
   "id": "a51524d9",
   "metadata": {},
   "outputs": [
    {
     "data": {
      "text/plain": [
       "(array([0., 1.]), array([ 87, 157], dtype=int64))"
      ]
     },
     "execution_count": 18,
     "metadata": {},
     "output_type": "execute_result"
    }
   ],
   "source": [
    "# program\n",
    "np.unique(a[:,3],return_counts=True)"
   ]
  },
  {
   "cell_type": "code",
   "execution_count": 19,
   "id": "e3e42360",
   "metadata": {},
   "outputs": [],
   "source": [
    "# there are 87 female and 157 male"
   ]
  },
  {
   "cell_type": "code",
   "execution_count": 24,
   "id": "0f2ad74f",
   "metadata": {},
   "outputs": [],
   "source": [
    "a1=a[a[:,3]==0].copy()"
   ]
  },
  {
   "cell_type": "code",
   "execution_count": 25,
   "id": "27aa630a",
   "metadata": {},
   "outputs": [
    {
     "data": {
      "text/plain": [
       "array([[  0.  ,  16.99,   1.01,   0.  ,   0.  ,   1.  ,   0.  ,   2.  ],\n",
       "       [  4.  ,  24.59,   3.61,   0.  ,   0.  ,   1.  ,   0.  ,   4.  ],\n",
       "       [ 11.  ,  35.26,   5.  ,   0.  ,   0.  ,   1.  ,   0.  ,   4.  ],\n",
       "       [ 14.  ,  14.83,   3.02,   0.  ,   0.  ,   1.  ,   0.  ,   2.  ],\n",
       "       [ 16.  ,  10.33,   1.67,   0.  ,   0.  ,   1.  ,   0.  ,   3.  ],\n",
       "       [ 18.  ,  16.97,   3.5 ,   0.  ,   0.  ,   1.  ,   0.  ,   3.  ],\n",
       "       [ 21.  ,  20.29,   2.75,   0.  ,   0.  ,   0.  ,   0.  ,   2.  ],\n",
       "       [ 22.  ,  15.77,   2.23,   0.  ,   0.  ,   0.  ,   0.  ,   2.  ],\n",
       "       [ 29.  ,  19.65,   3.  ,   0.  ,   0.  ,   0.  ,   0.  ,   2.  ],\n",
       "       [ 32.  ,  15.06,   3.  ,   0.  ,   0.  ,   0.  ,   0.  ,   2.  ],\n",
       "       [ 33.  ,  20.69,   2.45,   0.  ,   0.  ,   0.  ,   0.  ,   4.  ],\n",
       "       [ 37.  ,  16.93,   3.07,   0.  ,   0.  ,   0.  ,   0.  ,   3.  ],\n",
       "       [ 51.  ,  10.29,   2.6 ,   0.  ,   0.  ,   1.  ,   0.  ,   2.  ],\n",
       "       [ 52.  ,  34.81,   5.2 ,   0.  ,   0.  ,   1.  ,   0.  ,   4.  ],\n",
       "       [ 57.  ,  26.41,   1.5 ,   0.  ,   0.  ,   0.  ,   0.  ,   2.  ],\n",
       "       [ 66.  ,  16.45,   2.47,   0.  ,   0.  ,   0.  ,   0.  ,   2.  ],\n",
       "       [ 67.  ,   3.07,   1.  ,   0.  ,   1.  ,   0.  ,   0.  ,   1.  ],\n",
       "       [ 71.  ,  17.07,   3.  ,   0.  ,   0.  ,   0.  ,   0.  ,   3.  ],\n",
       "       [ 72.  ,  26.86,   3.14,   0.  ,   1.  ,   0.  ,   0.  ,   2.  ],\n",
       "       [ 73.  ,  25.28,   5.  ,   0.  ,   1.  ,   0.  ,   0.  ,   2.  ],\n",
       "       [ 74.  ,  14.73,   2.2 ,   0.  ,   0.  ,   0.  ,   0.  ,   2.  ],\n",
       "       [ 82.  ,  10.07,   1.83,   0.  ,   0.  ,   2.  ,   1.  ,   1.  ],\n",
       "       [ 85.  ,  34.83,   5.17,   0.  ,   0.  ,   2.  ,   1.  ,   4.  ],\n",
       "       [ 92.  ,   5.75,   1.  ,   0.  ,   1.  ,   3.  ,   0.  ,   2.  ],\n",
       "       [ 93.  ,  16.32,   4.3 ,   0.  ,   1.  ,   3.  ,   0.  ,   2.  ],\n",
       "       [ 94.  ,  22.75,   3.25,   0.  ,   0.  ,   3.  ,   0.  ,   2.  ],\n",
       "       [100.  ,  11.35,   2.5 ,   0.  ,   1.  ,   3.  ,   0.  ,   2.  ],\n",
       "       [101.  ,  15.38,   3.  ,   0.  ,   1.  ,   3.  ,   0.  ,   2.  ],\n",
       "       [102.  ,  44.3 ,   2.5 ,   0.  ,   1.  ,   0.  ,   0.  ,   3.  ],\n",
       "       [103.  ,  22.42,   3.48,   0.  ,   1.  ,   0.  ,   0.  ,   2.  ],\n",
       "       [104.  ,  20.92,   4.08,   0.  ,   0.  ,   0.  ,   0.  ,   2.  ],\n",
       "       [109.  ,  14.31,   4.  ,   0.  ,   1.  ,   0.  ,   0.  ,   2.  ],\n",
       "       [111.  ,   7.25,   1.  ,   0.  ,   0.  ,   0.  ,   0.  ,   1.  ],\n",
       "       [114.  ,  25.71,   4.  ,   0.  ,   0.  ,   1.  ,   0.  ,   3.  ],\n",
       "       [115.  ,  17.31,   3.5 ,   0.  ,   0.  ,   1.  ,   0.  ,   2.  ],\n",
       "       [117.  ,  10.65,   1.5 ,   0.  ,   0.  ,   2.  ,   1.  ,   2.  ],\n",
       "       [118.  ,  12.43,   1.8 ,   0.  ,   0.  ,   2.  ,   1.  ,   2.  ],\n",
       "       [119.  ,  24.08,   2.92,   0.  ,   0.  ,   2.  ,   1.  ,   4.  ],\n",
       "       [121.  ,  13.42,   1.68,   0.  ,   0.  ,   2.  ,   1.  ,   2.  ],\n",
       "       [124.  ,  12.48,   2.52,   0.  ,   0.  ,   2.  ,   1.  ,   2.  ],\n",
       "       [125.  ,  29.8 ,   4.2 ,   0.  ,   0.  ,   2.  ,   1.  ,   6.  ],\n",
       "       [127.  ,  14.52,   2.  ,   0.  ,   0.  ,   2.  ,   1.  ,   2.  ],\n",
       "       [128.  ,  11.38,   2.  ,   0.  ,   0.  ,   2.  ,   1.  ,   2.  ],\n",
       "       [131.  ,  20.27,   2.83,   0.  ,   0.  ,   2.  ,   1.  ,   2.  ],\n",
       "       [132.  ,  11.17,   1.5 ,   0.  ,   0.  ,   2.  ,   1.  ,   2.  ],\n",
       "       [133.  ,  12.26,   2.  ,   0.  ,   0.  ,   2.  ,   1.  ,   2.  ],\n",
       "       [134.  ,  18.26,   3.25,   0.  ,   0.  ,   2.  ,   1.  ,   2.  ],\n",
       "       [135.  ,   8.51,   1.25,   0.  ,   0.  ,   2.  ,   1.  ,   2.  ],\n",
       "       [136.  ,  10.33,   2.  ,   0.  ,   0.  ,   2.  ,   1.  ,   2.  ],\n",
       "       [137.  ,  14.15,   2.  ,   0.  ,   0.  ,   2.  ,   1.  ,   2.  ],\n",
       "       [139.  ,  13.16,   2.75,   0.  ,   0.  ,   2.  ,   1.  ,   2.  ],\n",
       "       [140.  ,  17.47,   3.5 ,   0.  ,   0.  ,   2.  ,   1.  ,   2.  ],\n",
       "       [143.  ,  27.05,   5.  ,   0.  ,   0.  ,   2.  ,   1.  ,   6.  ],\n",
       "       [144.  ,  16.43,   2.3 ,   0.  ,   0.  ,   2.  ,   1.  ,   2.  ],\n",
       "       [145.  ,   8.35,   1.5 ,   0.  ,   0.  ,   2.  ,   1.  ,   2.  ],\n",
       "       [146.  ,  18.64,   1.36,   0.  ,   0.  ,   2.  ,   1.  ,   3.  ],\n",
       "       [147.  ,  11.87,   1.63,   0.  ,   0.  ,   2.  ,   1.  ,   2.  ],\n",
       "       [155.  ,  29.85,   5.14,   0.  ,   0.  ,   1.  ,   0.  ,   5.  ],\n",
       "       [157.  ,  25.  ,   3.75,   0.  ,   0.  ,   1.  ,   0.  ,   4.  ],\n",
       "       [158.  ,  13.39,   2.61,   0.  ,   0.  ,   1.  ,   0.  ,   2.  ],\n",
       "       [162.  ,  16.21,   2.  ,   0.  ,   0.  ,   1.  ,   0.  ,   3.  ],\n",
       "       [164.  ,  17.51,   3.  ,   0.  ,   1.  ,   1.  ,   0.  ,   2.  ],\n",
       "       [168.  ,  10.59,   1.61,   0.  ,   1.  ,   0.  ,   0.  ,   2.  ],\n",
       "       [169.  ,  10.63,   2.  ,   0.  ,   1.  ,   0.  ,   0.  ,   2.  ],\n",
       "       [178.  ,   9.6 ,   4.  ,   0.  ,   1.  ,   1.  ,   0.  ,   2.  ],\n",
       "       [186.  ,  20.9 ,   3.5 ,   0.  ,   1.  ,   1.  ,   0.  ,   3.  ],\n",
       "       [188.  ,  18.15,   3.5 ,   0.  ,   1.  ,   1.  ,   0.  ,   3.  ],\n",
       "       [191.  ,  19.81,   4.19,   0.  ,   1.  ,   2.  ,   1.  ,   2.  ],\n",
       "       [197.  ,  43.11,   5.  ,   0.  ,   1.  ,   2.  ,   1.  ,   4.  ],\n",
       "       [198.  ,  13.  ,   2.  ,   0.  ,   1.  ,   2.  ,   1.  ,   2.  ],\n",
       "       [201.  ,  12.74,   2.01,   0.  ,   1.  ,   2.  ,   1.  ,   2.  ],\n",
       "       [202.  ,  13.  ,   2.  ,   0.  ,   1.  ,   2.  ,   1.  ,   2.  ],\n",
       "       [203.  ,  16.4 ,   2.5 ,   0.  ,   1.  ,   2.  ,   1.  ,   2.  ],\n",
       "       [205.  ,  16.47,   3.23,   0.  ,   1.  ,   2.  ,   1.  ,   3.  ],\n",
       "       [209.  ,  12.76,   2.23,   0.  ,   1.  ,   0.  ,   0.  ,   2.  ],\n",
       "       [213.  ,  13.27,   2.5 ,   0.  ,   1.  ,   0.  ,   0.  ,   2.  ],\n",
       "       [214.  ,  28.17,   6.5 ,   0.  ,   1.  ,   0.  ,   0.  ,   3.  ],\n",
       "       [215.  ,  12.9 ,   1.1 ,   0.  ,   1.  ,   0.  ,   0.  ,   2.  ],\n",
       "       [219.  ,  30.14,   3.09,   0.  ,   1.  ,   0.  ,   0.  ,   4.  ],\n",
       "       [221.  ,  13.42,   3.48,   0.  ,   1.  ,   3.  ,   1.  ,   2.  ],\n",
       "       [223.  ,  15.98,   3.  ,   0.  ,   0.  ,   3.  ,   1.  ,   3.  ],\n",
       "       [225.  ,  16.27,   2.5 ,   0.  ,   1.  ,   3.  ,   1.  ,   2.  ],\n",
       "       [226.  ,  10.09,   2.  ,   0.  ,   1.  ,   3.  ,   1.  ,   2.  ],\n",
       "       [229.  ,  22.12,   2.88,   0.  ,   1.  ,   0.  ,   0.  ,   2.  ],\n",
       "       [238.  ,  35.83,   4.67,   0.  ,   0.  ,   0.  ,   0.  ,   3.  ],\n",
       "       [240.  ,  27.18,   2.  ,   0.  ,   1.  ,   0.  ,   0.  ,   2.  ],\n",
       "       [243.  ,  18.78,   3.  ,   0.  ,   0.  ,   2.  ,   0.  ,   2.  ]])"
      ]
     },
     "execution_count": 25,
     "metadata": {},
     "output_type": "execute_result"
    }
   ],
   "source": [
    "a1"
   ]
  },
  {
   "cell_type": "code",
   "execution_count": 27,
   "id": "eaa3b8f2",
   "metadata": {},
   "outputs": [
    {
     "data": {
      "text/plain": [
       "8.408965517241379"
      ]
     },
     "execution_count": 27,
     "metadata": {},
     "output_type": "execute_result"
    }
   ],
   "source": [
    "np.sum(a[:,2])/87"
   ]
  },
  {
   "cell_type": "code",
   "execution_count": 28,
   "id": "ad482cae",
   "metadata": {},
   "outputs": [],
   "source": [
    "# avg tip by female is 8.40896"
   ]
  },
  {
   "cell_type": "code",
   "execution_count": 29,
   "id": "dd60d439",
   "metadata": {},
   "outputs": [],
   "source": [
    "a2=a[a[:,3]!=0].copy()"
   ]
  },
  {
   "cell_type": "code",
   "execution_count": 30,
   "id": "0d4c0e75",
   "metadata": {},
   "outputs": [
    {
     "data": {
      "text/plain": [
       "array([[  1.  ,  10.34,   1.66, ...,   1.  ,   0.  ,   3.  ],\n",
       "       [  2.  ,  21.01,   3.5 , ...,   1.  ,   0.  ,   3.  ],\n",
       "       [  3.  ,  23.68,   3.31, ...,   1.  ,   0.  ,   2.  ],\n",
       "       ...,\n",
       "       [239.  ,  29.03,   5.92, ...,   0.  ,   0.  ,   3.  ],\n",
       "       [241.  ,  22.67,   2.  , ...,   0.  ,   0.  ,   2.  ],\n",
       "       [242.  ,  17.82,   1.75, ...,   0.  ,   0.  ,   2.  ]])"
      ]
     },
     "execution_count": 30,
     "metadata": {},
     "output_type": "execute_result"
    }
   ],
   "source": [
    "a2\n"
   ]
  },
  {
   "cell_type": "code",
   "execution_count": 31,
   "id": "234336c5",
   "metadata": {},
   "outputs": [
    {
     "data": {
      "text/plain": [
       "4.659745222929936"
      ]
     },
     "execution_count": 31,
     "metadata": {},
     "output_type": "execute_result"
    }
   ],
   "source": [
    "np.sum(a[:,2])/157"
   ]
  },
  {
   "cell_type": "code",
   "execution_count": 32,
   "id": "c913f008",
   "metadata": {},
   "outputs": [],
   "source": [
    "# avg tip given by male is 4.6597"
   ]
  },
  {
   "cell_type": "code",
   "execution_count": 33,
   "id": "7ad33f56",
   "metadata": {},
   "outputs": [],
   "source": [
    "# 6Q: how much amount have been spend by male and female?"
   ]
  },
  {
   "cell_type": "code",
   "execution_count": 34,
   "id": "9ccb5960",
   "metadata": {},
   "outputs": [],
   "source": [
    "# program\n",
    "f=np.sum(a1[:,1])\n",
    "m=np.sum(a2[:,1])"
   ]
  },
  {
   "cell_type": "code",
   "execution_count": 35,
   "id": "680d89e1",
   "metadata": {},
   "outputs": [
    {
     "data": {
      "text/plain": [
       "'Total amount paid by female and male is 1570.9499999999996,3256.8199999999997'"
      ]
     },
     "execution_count": 35,
     "metadata": {},
     "output_type": "execute_result"
    }
   ],
   "source": [
    "\"Total amount paid by female and male is {},{}\".format(f,m)"
   ]
  },
  {
   "cell_type": "code",
   "execution_count": 36,
   "id": "a59f8e93",
   "metadata": {},
   "outputs": [],
   "source": [
    "# 7Q:what is min and max tip?"
   ]
  },
  {
   "cell_type": "code",
   "execution_count": 37,
   "id": "f70d964a",
   "metadata": {},
   "outputs": [],
   "source": [
    "# program\n",
    "mim=np.min(a[:,2])\n",
    "max = np.max(a[:,2])"
   ]
  },
  {
   "cell_type": "code",
   "execution_count": 38,
   "id": "f6ac3370",
   "metadata": {},
   "outputs": [
    {
     "data": {
      "text/plain": [
       "'max and min tip is 10.0,1.0'"
      ]
     },
     "execution_count": 38,
     "metadata": {},
     "output_type": "execute_result"
    }
   ],
   "source": [
    "'max and min tip is {},{}'.format(max,mim)"
   ]
  },
  {
   "cell_type": "code",
   "execution_count": 39,
   "id": "b073e0a3",
   "metadata": {},
   "outputs": [],
   "source": [
    "#8Q:how many males and females are going to lunch and dinner?"
   ]
  },
  {
   "cell_type": "code",
   "execution_count": 41,
   "id": "88ccb979",
   "metadata": {},
   "outputs": [
    {
     "data": {
      "text/plain": [
       "(array([0., 1.]), array([52, 35], dtype=int64))"
      ]
     },
     "execution_count": 41,
     "metadata": {},
     "output_type": "execute_result"
    }
   ],
   "source": [
    "# program\n",
    "np.unique(a1[:,6],return_counts=True)"
   ]
  },
  {
   "cell_type": "code",
   "execution_count": 42,
   "id": "dce8363b",
   "metadata": {},
   "outputs": [],
   "source": [
    "#52 females are going for dinner and 35 for lunch"
   ]
  },
  {
   "cell_type": "code",
   "execution_count": 43,
   "id": "078fd63b",
   "metadata": {},
   "outputs": [
    {
     "data": {
      "text/plain": [
       "(array([0., 1.]), array([124,  33], dtype=int64))"
      ]
     },
     "execution_count": 43,
     "metadata": {},
     "output_type": "execute_result"
    }
   ],
   "source": [
    "np.unique(a2[:,6],return_counts=True)"
   ]
  },
  {
   "cell_type": "code",
   "execution_count": 44,
   "id": "edbb817d",
   "metadata": {},
   "outputs": [],
   "source": [
    "#124 men are going for dinner and 33 are for lunch"
   ]
  },
  {
   "cell_type": "code",
   "execution_count": 45,
   "id": "fc67ddbf",
   "metadata": {},
   "outputs": [],
   "source": [
    "#9Q:Find out avg size?"
   ]
  },
  {
   "cell_type": "code",
   "execution_count": 53,
   "id": "d9186484",
   "metadata": {},
   "outputs": [
    {
     "data": {
      "text/plain": [
       "(244,)"
      ]
     },
     "execution_count": 53,
     "metadata": {},
     "output_type": "execute_result"
    }
   ],
   "source": [
    "# program\n",
    "x=np.sum(a[:,7])\n",
    "y=a[:,7].shape\n",
    "y"
   ]
  },
  {
   "cell_type": "code",
   "execution_count": 54,
   "id": "35faf3d1",
   "metadata": {},
   "outputs": [],
   "source": [
    "avg_size = x/244"
   ]
  },
  {
   "cell_type": "code",
   "execution_count": 55,
   "id": "36d92b57",
   "metadata": {},
   "outputs": [
    {
     "data": {
      "text/plain": [
       "2.569672131147541"
      ]
     },
     "execution_count": 55,
     "metadata": {},
     "output_type": "execute_result"
    }
   ],
   "source": [
    "avg_size"
   ]
  },
  {
   "cell_type": "code",
   "execution_count": 56,
   "id": "364da71d",
   "metadata": {},
   "outputs": [],
   "source": [
    "#10Q:How many female and male smokers are there?"
   ]
  },
  {
   "cell_type": "code",
   "execution_count": 57,
   "id": "0de25078",
   "metadata": {},
   "outputs": [
    {
     "data": {
      "text/plain": [
       "(33, 8)"
      ]
     },
     "execution_count": 57,
     "metadata": {},
     "output_type": "execute_result"
    }
   ],
   "source": [
    "# program\n",
    "a1[a1[:,4]==1].shape"
   ]
  },
  {
   "cell_type": "code",
   "execution_count": 58,
   "id": "83a283a4",
   "metadata": {},
   "outputs": [
    {
     "data": {
      "text/plain": [
       "(60, 8)"
      ]
     },
     "execution_count": 58,
     "metadata": {},
     "output_type": "execute_result"
    }
   ],
   "source": [
    "a2[a2[:,4]==1].shape"
   ]
  },
  {
   "cell_type": "code",
   "execution_count": null,
   "id": "c3414d7c",
   "metadata": {},
   "outputs": [],
   "source": [
    "# 33 female smokers and 60 male smokers are there"
   ]
  }
 ],
 "metadata": {
  "kernelspec": {
   "display_name": "Python 3 (ipykernel)",
   "language": "python",
   "name": "python3"
  },
  "language_info": {
   "codemirror_mode": {
    "name": "ipython",
    "version": 3
   },
   "file_extension": ".py",
   "mimetype": "text/x-python",
   "name": "python",
   "nbconvert_exporter": "python",
   "pygments_lexer": "ipython3",
   "version": "3.11.3"
  }
 },
 "nbformat": 4,
 "nbformat_minor": 5
}
